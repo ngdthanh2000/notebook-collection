{
 "cells": [
  {
   "cell_type": "code",
   "execution_count": null,
   "id": "stock-bunny",
   "metadata": {},
   "outputs": [],
   "source": [
    "import numpy as np\n",
    "import pandas as pd\n",
    "import lxml\n",
    "import itertools\n",
    "pd.options.mode.chained_assignment = None  # default='warn'"
   ]
  },
  {
   "cell_type": "code",
   "execution_count": null,
   "id": "powered-closure",
   "metadata": {},
   "outputs": [],
   "source": [
    "filelist = ['week'+str(i)+'.html' for i in range(1, 10)]\n",
    "\n",
    "def read_data(filename):\n",
    "    df = pd.read_html('results/'+filename)[0]\n",
    "    week = df.columns.get_level_values(0).unique()\n",
    "    df.columns = df.columns.get_level_values(1)\n",
    "    df = df.drop_duplicates(subset = ['Team1', 'Team2'])\n",
    "    df['Week'] = [week.values[0] for _ in range(len(df))]\n",
    "    df = df[['Team1', 'Team2', 'Result', 'Week']]\n",
    "    df.replace(to_replace = '-', value = '0 - 0', inplace = True)\n",
    "    result = df['Result'].str.split(' - ')\n",
    "    result = list(zip(*result.values))\n",
    "    df['Home'] = list(map(lambda x: int(x), result[0]))\n",
    "    df['Away'] = list(map(lambda x: int(x), result[1]))\n",
    "    df.drop('Result', axis = 1, inplace = True)\n",
    "    return df\n",
    "\n",
    "df_result = pd.concat([read_data(name) for name in ['week'+str(i)+'.html' for i in range(1, 8)]])\n",
    "df_predict = pd.concat([read_data(name) for name in ['week'+str(i)+'.html' for i in range(8, 10)]])"
   ]
  },
  {
   "cell_type": "code",
   "execution_count": null,
   "id": "bound-reservoir",
   "metadata": {},
   "outputs": [],
   "source": [
    "df_result"
   ]
  },
  {
   "cell_type": "code",
   "execution_count": null,
   "id": "stunning-cologne",
   "metadata": {},
   "outputs": [],
   "source": [
    "def winner(row):\n",
    "    return row['Team1'] if row['Home'] > row['Away'] else row['Team2']\n",
    "\n",
    "df_result['Winner'] = df_result.apply(winner, axis = 1)"
   ]
  },
  {
   "cell_type": "code",
   "execution_count": null,
   "id": "removed-outside",
   "metadata": {},
   "outputs": [],
   "source": [
    "df_result"
   ]
  },
  {
   "cell_type": "code",
   "execution_count": null,
   "id": "owned-saudi",
   "metadata": {},
   "outputs": [],
   "source": [
    "df_table = pd.DataFrame(df_result['Team1'].unique(), columns = [\"Team\"])\n",
    "\n",
    "def calculate(row, df_result):\n",
    "    df = df_result[(df_result['Team1'] == row['Team']) | (df_result['Team2'] == row['Team'])]\n",
    "    df_winner = df[df['Winner'] == row['Team']]\n",
    "    df_lose = df[df['Winner'] != row['Team']]\n",
    "    win_count = len(df_winner)\n",
    "    lose_count = len(df_lose)\n",
    "    diff = abs(df_winner['Home'] - df_winner['Away']).sum() - abs(df_lose['Home'] - df_lose['Away']).sum()\n",
    "    return pd.Series([win_count, lose_count, diff])\n",
    "\n",
    "df_table[['Win', 'Lose', 'Diff']] = df_table.apply(calculate, axis = 1, args = (df_result,))\n",
    "\n",
    "df_table.sort_values(['Win', 'Lose', 'Diff'], ascending = [False, True, False], ignore_index = True, inplace = True)"
   ]
  },
  {
   "cell_type": "code",
   "execution_count": null,
   "id": "allied-visibility",
   "metadata": {},
   "outputs": [],
   "source": [
    "df_table"
   ]
  },
  {
   "cell_type": "code",
   "execution_count": null,
   "id": "loved-sword",
   "metadata": {},
   "outputs": [],
   "source": [
    "df_predict"
   ]
  },
  {
   "cell_type": "code",
   "execution_count": null,
   "id": "documentary-trainer",
   "metadata": {},
   "outputs": [],
   "source": [
    "result_list = ['2-0', '0-2', '2-1', '1-2']\n",
    "\n",
    "result_list = [result_list for _ in range(len(df_predict))]\n",
    "\n",
    "result_list"
   ]
  },
  {
   "cell_type": "code",
   "execution_count": null,
   "id": "bigger-election",
   "metadata": {},
   "outputs": [],
   "source": [
    "total_per = 4**(len(df_predict))\n",
    "p = itertools.product(*result_list)\n",
    "ranking_predict = pd.DataFrame(np.zeros((8, 9)), columns = [\"Team\"] + [str(i) for i in range(1, 9)])\n",
    "ranking_predict['Team'] = df_table['Team']\n",
    "ranking_predict.set_index('Team', inplace = True)\n",
    "\n",
    "for idx in range(total_per):\n",
    "    result = next(p)\n",
    "    df_predict['Home'] = list([int(ele) for ele in (list(zip(*result))[0])])\n",
    "    df_predict['Away'] = list([int(ele) for ele in (list(zip(*result))[2])])\n",
    "    df_predict['Winner'] = df_predict.apply(winner, axis = 1)\n",
    "    df_table_temp = df_table.copy()\n",
    "    df_table_temp[['Win', 'Lose', 'Diff']] = df_table_temp.apply(calculate, axis = 1, args = (df_predict,))\n",
    "    df_table_temp['Win'] += df_table['Win']\n",
    "    df_table_temp['Lose'] += df_table['Lose']\n",
    "    df_table_temp['Diff'] += df_table['Diff']\n",
    "    df_table_temp.sort_values(['Win', 'Lose', 'Diff'], ascending = [False, True, False], ignore_index = True, inplace = True)\n",
    "    for i, team in enumerate(df_table_temp['Team'].values):\n",
    "        ranking_predict.loc[team][str(i + 1)] += 1"
   ]
  },
  {
   "cell_type": "code",
   "execution_count": null,
   "id": "separate-documentary",
   "metadata": {},
   "outputs": [],
   "source": [
    "total_per = 4**(len(df_predict))\n",
    "\n",
    "ranking_predict = ranking_predict/total_per*100\n",
    "\n",
    "ranking_predict"
   ]
  }
 ],
 "metadata": {
  "kernelspec": {
   "display_name": "Python 3",
   "language": "python",
   "name": "python3"
  },
  "language_info": {
   "codemirror_mode": {
    "name": "ipython",
    "version": 3
   },
   "file_extension": ".py",
   "mimetype": "text/x-python",
   "name": "python",
   "nbconvert_exporter": "python",
   "pygments_lexer": "ipython3",
   "version": "3.9.1"
  }
 },
 "nbformat": 4,
 "nbformat_minor": 5
}
